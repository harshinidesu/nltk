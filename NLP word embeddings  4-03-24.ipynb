{
 "cells": [
  {
   "cell_type": "code",
   "execution_count": 2,
   "id": "17141a4b",
   "metadata": {},
   "outputs": [
    {
     "name": "stdout",
     "output_type": "stream",
     "text": [
      "['sky nice', 'clouds nice', 'sky nice clouds nice']\n"
     ]
    }
   ],
   "source": [
    "from nltk.corpus import stopwords\n",
    "sentences=[' sky is nice','clouds are  nice','sky is nice and clouds are nice']\n",
    "\n",
    "cleaned_sentence=[]\n",
    "for sentence in sentences:\n",
    "    word=sentence.lower()\n",
    "    \n",
    "    word= word.split()\n",
    "    word=[i for i in word if i not in set(stopwords.words('english'))]\n",
    "    word=\" \".join(word)\n",
    "    cleaned_sentence.append(word)\n",
    "    \n",
    "print(cleaned_sentence)"
   ]
  },
  {
   "cell_type": "code",
   "execution_count": 3,
   "id": "17065976",
   "metadata": {},
   "outputs": [
    {
     "name": "stdout",
     "output_type": "stream",
     "text": [
      "[[0 1 1]\n",
      " [1 1 0]\n",
      " [1 2 1]]\n"
     ]
    }
   ],
   "source": [
    "from sklearn.feature_extraction.text import CountVectorizer\n",
    "\n",
    "cv= CountVectorizer(max_features=3)\n",
    "Bagofwords = cv.fit_transform(cleaned_sentence).toarray()\n",
    "\n",
    "print(Bagofwords)\n"
   ]
  },
  {
   "cell_type": "code",
   "execution_count": 6,
   "id": "01dd9a8a",
   "metadata": {},
   "outputs": [
    {
     "data": {
      "text/plain": [
       "{'sky': 2, 'nice': 1, 'clouds': 0}"
      ]
     },
     "execution_count": 6,
     "metadata": {},
     "output_type": "execute_result"
    }
   ],
   "source": [
    "cv.vocabulary_\n",
    "# unique words with index\n",
    "# cloud is frist word: frist feature\n",
    "# nice is scenod word: second feature\n",
    "# sky is third word: third feature"
   ]
  },
  {
   "cell_type": "code",
   "execution_count": 7,
   "id": "e386dfe1",
   "metadata": {},
   "outputs": [
    {
     "data": {
      "text/html": [
       "<div>\n",
       "<style scoped>\n",
       "    .dataframe tbody tr th:only-of-type {\n",
       "        vertical-align: middle;\n",
       "    }\n",
       "\n",
       "    .dataframe tbody tr th {\n",
       "        vertical-align: top;\n",
       "    }\n",
       "\n",
       "    .dataframe thead th {\n",
       "        text-align: right;\n",
       "    }\n",
       "</style>\n",
       "<table border=\"1\" class=\"dataframe\">\n",
       "  <thead>\n",
       "    <tr style=\"text-align: right;\">\n",
       "      <th></th>\n",
       "      <th>cloud</th>\n",
       "      <th>nice</th>\n",
       "      <th>sky</th>\n",
       "    </tr>\n",
       "  </thead>\n",
       "  <tbody>\n",
       "    <tr>\n",
       "      <th>0</th>\n",
       "      <td>0</td>\n",
       "      <td>1</td>\n",
       "      <td>1</td>\n",
       "    </tr>\n",
       "    <tr>\n",
       "      <th>1</th>\n",
       "      <td>1</td>\n",
       "      <td>1</td>\n",
       "      <td>0</td>\n",
       "    </tr>\n",
       "    <tr>\n",
       "      <th>2</th>\n",
       "      <td>1</td>\n",
       "      <td>2</td>\n",
       "      <td>1</td>\n",
       "    </tr>\n",
       "  </tbody>\n",
       "</table>\n",
       "</div>"
      ],
      "text/plain": [
       "   cloud  nice  sky\n",
       "0      0     1    1\n",
       "1      1     1    0\n",
       "2      1     2    1"
      ]
     },
     "execution_count": 7,
     "metadata": {},
     "output_type": "execute_result"
    }
   ],
   "source": [
    "import pandas as pd\n",
    "pd.DataFrame(Bagofwords,columns=['cloud','nice','sky'])"
   ]
  },
  {
   "cell_type": "code",
   "execution_count": 9,
   "id": "29c92e1c",
   "metadata": {},
   "outputs": [
    {
     "name": "stdout",
     "output_type": "stream",
     "text": [
      "['sky nice', 'clouds nice', 'sky nice clouds nice']\n",
      "[[0 0 1 0 1 1]\n",
      " [1 1 1 0 0 0]\n",
      " [1 1 2 1 1 1]]\n"
     ]
    }
   ],
   "source": [
    "from nltk.corpus import stopwords\n",
    "sentences=[' sky is nice','clouds are  nice','sky is nice and clouds are nice']\n",
    "\n",
    "cleaned_sentence=[]\n",
    "for sentence in sentences:\n",
    "    word=sentence.lower()\n",
    "    \n",
    "    word= word.split()\n",
    "    word=[i for i in word if i not in set(stopwords.words('english'))]\n",
    "    word=\" \".join(word)\n",
    "    cleaned_sentence.append(word)\n",
    "    \n",
    "print(cleaned_sentence)\n",
    "\n",
    "cv=CountVectorizer(ngram_range=(1,2))\n",
    "Bagofwords = cv.fit_transform(cleaned_sentence).toarray()\n",
    "print(Bagofwords)"
   ]
  },
  {
   "cell_type": "code",
   "execution_count": 10,
   "id": "ffb1c166",
   "metadata": {},
   "outputs": [
    {
     "data": {
      "text/plain": [
       "{'sky': 4,\n",
       " 'nice': 2,\n",
       " 'sky nice': 5,\n",
       " 'clouds': 0,\n",
       " 'clouds nice': 1,\n",
       " 'nice clouds': 3}"
      ]
     },
     "execution_count": 10,
     "metadata": {},
     "output_type": "execute_result"
    }
   ],
   "source": [
    "cv.vocabulary_\n",
    "\n",
    "# vector formation happens based on vocbualary"
   ]
  },
  {
   "cell_type": "markdown",
   "id": "be8a6499",
   "metadata": {},
   "source": [
    "**tfidVectorizer**"
   ]
  },
  {
   "cell_type": "code",
   "execution_count": 11,
   "id": "c06d3f94",
   "metadata": {},
   "outputs": [
    {
     "name": "stdout",
     "output_type": "stream",
     "text": [
      "['going rain today', 'Today going outside', ' going watch season permeris']\n"
     ]
    }
   ],
   "source": [
    "Document1='going rain today'\n",
    "Document2='Today going outside'\n",
    "Document3=' going watch season permeris'\n",
    "Doc=[Document1,Document2,Document3]\n",
    "print(Doc)"
   ]
  },
  {
   "cell_type": "code",
   "execution_count": 13,
   "id": "030c4dae",
   "metadata": {},
   "outputs": [],
   "source": [
    "from sklearn.feature_extraction.text import TfidfVectorizer\n",
    "vectorizer= TfidfVectorizer()\n",
    "X= vectorizer.fit_transform(Doc)"
   ]
  },
  {
   "cell_type": "code",
   "execution_count": 15,
   "id": "2a7659c4",
   "metadata": {},
   "outputs": [
    {
     "data": {
      "text/plain": [
       "{'going': 0,\n",
       " 'rain': 3,\n",
       " 'today': 5,\n",
       " 'outside': 1,\n",
       " 'watch': 6,\n",
       " 'season': 4,\n",
       " 'permeris': 2}"
      ]
     },
     "execution_count": 15,
     "metadata": {},
     "output_type": "execute_result"
    }
   ],
   "source": [
    "vectorizer.vocabulary_"
   ]
  },
  {
   "cell_type": "code",
   "execution_count": 16,
   "id": "1a324f70",
   "metadata": {},
   "outputs": [
    {
     "name": "stdout",
     "output_type": "stream",
     "text": [
      "Feature Names: ['and' 'document' 'first' 'is' 'one' 'second' 'the' 'third' 'this']\n",
      "Token Count Matrix:\n",
      "[[0 1 1 1 0 0 1 0 1]\n",
      " [0 2 0 1 0 1 1 0 1]\n",
      " [1 0 0 1 1 0 1 1 1]\n",
      " [0 1 1 1 0 0 1 0 1]]\n"
     ]
    }
   ],
   "source": [
    "from sklearn.feature_extraction.text import CountVectorizer\n",
    "\n",
    "# Sample documents\n",
    "documents = [\"This is the first document.\",\n",
    "             \"This document is the second document.\",\n",
    "             \"And this is the third one.\",\n",
    "             \"Is this the first document?\"]\n",
    "\n",
    "# Create an instance of CountVectorizer\n",
    "vectorizer = CountVectorizer()\n",
    "\n",
    "# Fit and transform the documents into a token count matrix\n",
    "X = vectorizer.fit_transform(documents)\n",
    "\n",
    "# Get the feature names (tokens)\n",
    "feature_names = vectorizer.get_feature_names_out()\n",
    "\n",
    "# Convert the matrix to an array for easier understanding\n",
    "matrix_array = X.toarray()\n",
    "\n",
    "# Print the feature names and the token count matrix\n",
    "print(\"Feature Names:\", feature_names)\n",
    "print(\"Token Count Matrix:\")\n",
    "print(matrix_array)\n"
   ]
  },
  {
   "cell_type": "code",
   "execution_count": 1,
   "id": "5b557f11",
   "metadata": {},
   "outputs": [
    {
     "name": "stdout",
     "output_type": "stream",
     "text": [
      "['game thrones amazing tv series!', 'game thrones best tv series!', 'game thrones great']\n",
      "[[1 0 1 0 1 1 1]\n",
      " [0 1 1 0 1 1 1]\n",
      " [0 0 1 1 0 1 0]]\n"
     ]
    }
   ],
   "source": [
    "#  bag of words####\n",
    "\n",
    "#############################all together####################\n",
    "from nltk.corpus import stopwords\n",
    "from sklearn.feature_extraction.text import CountVectorizer\n",
    "\n",
    "sentences= ['Game of Thrones is an amazing tv series!',\n",
    "           'Game of Thrones is the best tv series!',\n",
    "           'Game of Thrones is so great']\n",
    "\n",
    "cleaned_sentence = []\n",
    "\n",
    "for sentence in sentences:\n",
    "    word = sentence.lower()\n",
    "    \n",
    "    word = word.split()\n",
    "    \n",
    "    word=[i for i in word if i not in set(stopwords.words('english'))]\n",
    "    word =\" \".join(word)\n",
    "    cleaned_sentence.append(word)\n",
    "    \n",
    "print(cleaned_sentence)\n",
    "\n",
    "cv= CountVectorizer()\n",
    "Bagofwords = cv.fit_transform(cleaned_sentence).toarray()\n",
    "print(Bagofwords)"
   ]
  },
  {
   "cell_type": "code",
   "execution_count": 2,
   "id": "4c470362",
   "metadata": {},
   "outputs": [
    {
     "data": {
      "text/plain": [
       "{'game': 2,\n",
       " 'thrones': 5,\n",
       " 'amazing': 0,\n",
       " 'tv': 6,\n",
       " 'series': 4,\n",
       " 'best': 1,\n",
       " 'great': 3}"
      ]
     },
     "execution_count": 2,
     "metadata": {},
     "output_type": "execute_result"
    }
   ],
   "source": [
    "cv.vocabulary_"
   ]
  },
  {
   "cell_type": "code",
   "execution_count": null,
   "id": "2a521fd4",
   "metadata": {},
   "outputs": [],
   "source": []
  }
 ],
 "metadata": {
  "kernelspec": {
   "display_name": "Python 3 (ipykernel)",
   "language": "python",
   "name": "python3"
  },
  "language_info": {
   "codemirror_mode": {
    "name": "ipython",
    "version": 3
   },
   "file_extension": ".py",
   "mimetype": "text/x-python",
   "name": "python",
   "nbconvert_exporter": "python",
   "pygments_lexer": "ipython3",
   "version": "3.11.5"
  }
 },
 "nbformat": 4,
 "nbformat_minor": 5
}
